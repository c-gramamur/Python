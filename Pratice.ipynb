{
    "cells": [
        {
            "cell_type": "code",
            "execution_count": 1,
            "source": [
                "!pip list\r\n"
            ],
            "outputs": [
                {
                    "output_type": "stream",
                    "name": "stdout",
                    "text": [
                        "Package                           Version\n",
                        "--------------------------------- -------\n",
                        "backports.entry-points-selectable 1.1.0\n",
                        "distlib                           0.3.2\n",
                        "filelock                          3.0.12\n",
                        "numpy                             1.21.1\n",
                        "pandas                            1.3.1\n",
                        "pip                               21.1.3\n",
                        "platformdirs                      2.0.2\n",
                        "python-dateutil                   2.8.2\n",
                        "pytz                              2021.1\n",
                        "setuptools                        56.0.0\n",
                        "six                               1.16.0\n",
                        "virtualenv                        20.6.0\n"
                    ]
                },
                {
                    "output_type": "stream",
                    "name": "stderr",
                    "text": [
                        "WARNING: You are using pip version 21.1.3; however, version 21.2.1 is available.\n",
                        "You should consider upgrading via the 'c:\\users\\c-gramamur\\appdata\\local\\programs\\python\\python39\\python.exe -m pip install --upgrade pip' command.\n"
                    ]
                }
            ],
            "metadata": {}
        },
        {
            "cell_type": "code",
            "execution_count": null,
            "source": [],
            "outputs": [],
            "metadata": {}
        }
    ],
    "metadata": {
        "orig_nbformat": 4,
        "language_info": {
            "name": "python",
            "version": "3.7.8",
            "mimetype": "text/x-python",
            "codemirror_mode": {
                "name": "ipython",
                "version": 3
            },
            "pygments_lexer": "ipython3",
            "nbconvert_exporter": "python",
            "file_extension": ".py"
        },
        "kernelspec": {
            "name": "python3",
            "display_name": "Python 3.7.8 64-bit"
        },
        "interpreter": {
            "hash": "57baa5815c940fdaff4d14510622de9616cae602444507ba5d0b6727c008cbd6"
        }
    },
    "nbformat": 4,
    "nbformat_minor": 2
}