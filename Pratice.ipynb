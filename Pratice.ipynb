{
    "cells": [
        {
            "cell_type": "code",
            "execution_count": null,
            "source": [
                "!pip list"
            ],
            "outputs": [],
            "metadata": {}
        },
        {
            "cell_type": "code",
            "execution_count": 3,
            "source": [
                "!pip install pandas \r\n",
                "!pip install numpy \r\n",
                "!pip install matplotlib "
            ],
            "outputs": [
                {
                    "output_type": "stream",
                    "name": "stdout",
                    "text": [
                        "Collecting pandas\n",
                        "  Using cached pandas-1.3.1-cp39-cp39-win_amd64.whl (10.4 MB)\n",
                        "Collecting pytz>=2017.3\n",
                        "  Using cached pytz-2021.1-py2.py3-none-any.whl (510 kB)\n",
                        "Collecting numpy>=1.17.3\n",
                        "  Using cached numpy-1.21.1-cp39-cp39-win_amd64.whl (14.0 MB)\n",
                        "Requirement already satisfied: python-dateutil>=2.7.3 in c:\\users\\c-gramamur\\documents\\projects\\py-pandas\\venv\\lib\\site-packages (from pandas) (2.8.2)\n",
                        "Requirement already satisfied: six>=1.5 in c:\\users\\c-gramamur\\documents\\projects\\py-pandas\\venv\\lib\\site-packages (from python-dateutil>=2.7.3->pandas) (1.16.0)\n",
                        "Installing collected packages: pytz, numpy, pandas\n",
                        "Successfully installed numpy-1.21.1 pandas-1.3.1 pytz-2021.1\n"
                    ]
                },
                {
                    "output_type": "stream",
                    "name": "stderr",
                    "text": [
                        "WARNING: You are using pip version 21.1.3; however, version 21.2.1 is available.\n",
                        "You should consider upgrading via the 'C:\\Users\\c-gramamur\\Documents\\Projects\\py-pandas\\venv\\Scripts\\python.exe -m pip install --upgrade pip' command.\n"
                    ]
                },
                {
                    "output_type": "stream",
                    "name": "stdout",
                    "text": [
                        "Requirement already satisfied: numpy in c:\\users\\c-gramamur\\documents\\projects\\py-pandas\\venv\\lib\\site-packages (1.21.1)\n"
                    ]
                },
                {
                    "output_type": "stream",
                    "name": "stderr",
                    "text": [
                        "WARNING: You are using pip version 21.1.3; however, version 21.2.1 is available.\n",
                        "You should consider upgrading via the 'C:\\Users\\c-gramamur\\Documents\\Projects\\py-pandas\\venv\\Scripts\\python.exe -m pip install --upgrade pip' command.\n"
                    ]
                },
                {
                    "output_type": "stream",
                    "name": "stdout",
                    "text": [
                        "Collecting matplotlib"
                    ]
                },
                {
                    "output_type": "stream",
                    "name": "stderr",
                    "text": [
                        "WARNING: You are using pip version 21.1.3; however, version 21.2.1 is available.\n",
                        "You should consider upgrading via the 'C:\\Users\\c-gramamur\\Documents\\Projects\\py-pandas\\venv\\Scripts\\python.exe -m pip install --upgrade pip' command.\n"
                    ]
                },
                {
                    "output_type": "stream",
                    "name": "stdout",
                    "text": [
                        "\n",
                        "  Using cached matplotlib-3.4.2-cp39-cp39-win_amd64.whl (7.1 MB)\n",
                        "Collecting cycler>=0.10\n",
                        "  Downloading cycler-0.10.0-py2.py3-none-any.whl (6.5 kB)\n",
                        "Collecting kiwisolver>=1.0.1\n",
                        "  Downloading kiwisolver-1.3.1-cp39-cp39-win_amd64.whl (51 kB)\n",
                        "Collecting pyparsing>=2.2.1\n",
                        "  Downloading pyparsing-2.4.7-py2.py3-none-any.whl (67 kB)\n",
                        "Collecting pillow>=6.2.0\n",
                        "  Downloading Pillow-8.3.1-1-cp39-cp39-win_amd64.whl (3.2 MB)\n",
                        "Requirement already satisfied: python-dateutil>=2.7 in c:\\users\\c-gramamur\\documents\\projects\\py-pandas\\venv\\lib\\site-packages (from matplotlib) (2.8.2)\n",
                        "Requirement already satisfied: numpy>=1.16 in c:\\users\\c-gramamur\\documents\\projects\\py-pandas\\venv\\lib\\site-packages (from matplotlib) (1.21.1)\n",
                        "Requirement already satisfied: six in c:\\users\\c-gramamur\\documents\\projects\\py-pandas\\venv\\lib\\site-packages (from cycler>=0.10->matplotlib) (1.16.0)\n",
                        "Installing collected packages: pyparsing, pillow, kiwisolver, cycler, matplotlib\n",
                        "Successfully installed cycler-0.10.0 kiwisolver-1.3.1 matplotlib-3.4.2 pillow-8.3.1 pyparsing-2.4.7\n"
                    ]
                }
            ],
            "metadata": {}
        },
        {
            "cell_type": "code",
            "execution_count": 4,
            "source": [
                "data ={\"test\":[20,22,14,10],\r\n",
                "\"type\":['HIV','COVID','SCREEN','STD']\r\n",
                "}"
            ],
            "outputs": [],
            "metadata": {}
        },
        {
            "cell_type": "code",
            "execution_count": 5,
            "source": [
                "data"
            ],
            "outputs": [
                {
                    "output_type": "execute_result",
                    "data": {
                        "text/plain": [
                            "{'test': [20, 22, 14, 10], 'type': ['HIV', 'COVID', 'SCREEN', 'STD']}"
                        ]
                    },
                    "metadata": {},
                    "execution_count": 5
                }
            ],
            "metadata": {}
        },
        {
            "cell_type": "code",
            "execution_count": 6,
            "source": [
                "import pandas as pd\r\n",
                "import numpy as np\r\n",
                "import matplotlib as plt "
            ],
            "outputs": [],
            "metadata": {}
        },
        {
            "cell_type": "code",
            "execution_count": null,
            "source": [],
            "outputs": [],
            "metadata": {}
        }
    ],
    "metadata": {
        "orig_nbformat": 4,
        "language_info": {
            "name": "python",
            "version": "3.9.6",
            "mimetype": "text/x-python",
            "codemirror_mode": {
                "name": "ipython",
                "version": 3
            },
            "pygments_lexer": "ipython3",
            "nbconvert_exporter": "python",
            "file_extension": ".py"
        },
        "kernelspec": {
            "name": "python3",
            "display_name": "Python 3.9.6 64-bit ('venv': venv)"
        },
        "interpreter": {
            "hash": "6744e14651b07e4aa6a9a7da3349862e889ecad102bc051e2626bad2f37aa354"
        }
    },
    "nbformat": 4,
    "nbformat_minor": 2
}