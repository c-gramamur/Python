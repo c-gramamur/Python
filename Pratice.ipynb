{
    "cells": [
        {
            "cell_type": "code",
            "execution_count": null,
            "source": [
                "!pip list\r\n"
            ],
            "outputs": [],
            "metadata": {}
        },
        {
            "cell_type": "code",
            "execution_count": 1,
            "source": [
                "!pip install pandas\r\n",
                "!pip install numpy"
            ],
            "outputs": [
                {
                    "output_type": "stream",
                    "name": "stdout",
                    "text": [
                        "Collecting pandas\n",
                        "  Downloading pandas-1.3.1-cp39-cp39-win_amd64.whl (10.4 MB)\n",
                        "Collecting pytz>=2017.3\n",
                        "  Downloading pytz-2021.1-py2.py3-none-any.whl (510 kB)\n",
                        "Collecting numpy>=1.17.3\n",
                        "  Downloading numpy-1.21.1-cp39-cp39-win_amd64.whl (14.0 MB)\n",
                        "Collecting python-dateutil>=2.7.3\n",
                        "  Using cached python_dateutil-2.8.2-py2.py3-none-any.whl (247 kB)\n",
                        "Requirement already satisfied: six>=1.5 in c:\\users\\c-gramamur\\appdata\\local\\programs\\python\\python39\\lib\\site-packages (from python-dateutil>=2.7.3->pandas) (1.16.0)\n",
                        "Installing collected packages: pytz, python-dateutil, numpy, pandas\n",
                        "Successfully installed numpy-1.21.1 pandas-1.3.1 python-dateutil-2.8.2 pytz-2021.1\n"
                    ]
                },
                {
                    "output_type": "stream",
                    "name": "stderr",
                    "text": [
                        "WARNING: You are using pip version 21.1.3; however, version 21.2.1 is available.\n",
                        "You should consider upgrading via the 'c:\\users\\c-gramamur\\appdata\\local\\programs\\python\\python39\\python.exe -m pip install --upgrade pip' command.\n"
                    ]
                },
                {
                    "output_type": "stream",
                    "name": "stdout",
                    "text": [
                        "Requirement already satisfied: numpy in c:\\users\\c-gramamur\\appdata\\local\\programs\\python\\python39\\lib\\site-packages (1.21.1)\n"
                    ]
                },
                {
                    "output_type": "stream",
                    "name": "stderr",
                    "text": [
                        "WARNING: You are using pip version 21.1.3; however, version 21.2.1 is available.\n",
                        "You should consider upgrading via the 'c:\\users\\c-gramamur\\appdata\\local\\programs\\python\\python39\\python.exe -m pip install --upgrade pip' command.\n"
                    ]
                }
            ],
            "metadata": {}
        },
        {
            "cell_type": "code",
            "execution_count": null,
            "source": [],
            "outputs": [],
            "metadata": {}
        }
    ],
    "metadata": {
        "orig_nbformat": 4,
        "language_info": {
            "name": "python",
            "version": "3.7.8",
            "mimetype": "text/x-python",
            "codemirror_mode": {
                "name": "ipython",
                "version": 3
            },
            "pygments_lexer": "ipython3",
            "nbconvert_exporter": "python",
            "file_extension": ".py"
        },
        "kernelspec": {
            "name": "python3",
            "display_name": "Python 3.7.8 64-bit"
        },
        "interpreter": {
            "hash": "57baa5815c940fdaff4d14510622de9616cae602444507ba5d0b6727c008cbd6"
        }
    },
    "nbformat": 4,
    "nbformat_minor": 2
}